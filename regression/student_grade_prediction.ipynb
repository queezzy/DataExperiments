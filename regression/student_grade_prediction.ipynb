{
 "metadata": {
  "language_info": {
   "codemirror_mode": {
    "name": "ipython",
    "version": 3
   },
   "file_extension": ".py",
   "mimetype": "text/x-python",
   "name": "python",
   "nbconvert_exporter": "python",
   "pygments_lexer": "ipython3",
   "version": "3.8.3-final"
  },
  "orig_nbformat": 2,
  "kernelspec": {
   "name": "python3",
   "display_name": "Python 3"
  }
 },
 "nbformat": 4,
 "nbformat_minor": 2,
 "cells": [
  {
   "source": [
    "# STUDENT GRADE PREDICTION"
   ],
   "cell_type": "markdown",
   "metadata": {}
  },
  {
   "source": [
    "## Description\n",
    "This notebook aims to use several regression models to predict the grade/score of a portuguese secondary school's student.\n",
    "\n",
    "The dataset consists of data coming from students in two portuguese public schools. Two datasets are provided and consisting on performances on two major subjects that are \"Mathematics\" and \"Portuguese language\". Data attributed are from the 2005-2006 school year and were collected through schools reports and questionnaire answers.\n",
    "\n",
    "The file student_description.txt contains the description of the attribute.\n",
    "\n",
    "The dataset was issued by of P. Cortez and A. Silva and you can have more details on their work in their following paper\n",
    "\n",
    "\n",
    "> [P. Cortez and A. Silva. Using Data Mining to Predict Secondary School Student Performance. In A. Brito and J. Teixeira Eds., Proceedings of 5th FUture BUsiness TEChnology Conference (FUBUTEC 2008) pp. 5-12, Porto, Portugal, April, 2008, EUROSIS, ISBN 978-9077381-39-7.](http://www3.dsi.uminho.pt/pcortez/student.pdf) \n"
   ],
   "cell_type": "markdown",
   "metadata": {}
  },
  {
   "cell_type": "code",
   "execution_count": null,
   "metadata": {},
   "outputs": [],
   "source": []
  }
 ]
}